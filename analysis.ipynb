{
 "cells": [
  {
   "cell_type": "code",
   "execution_count": 1,
   "id": "24351822-e852-460a-b354-3745a8c2a013",
   "metadata": {},
   "outputs": [],
   "source": [
    "import pandas as pd\n",
    "import pathlib"
   ]
  },
  {
   "cell_type": "code",
   "execution_count": 2,
   "id": "bde19b9f-ff56-4a23-8f28-12e9e4bfc658",
   "metadata": {},
   "outputs": [],
   "source": [
    "def getLines(f):\n",
    "    \"\"\"Read file contents and return stripped lines.\"\"\"\n",
    "    with open(f) as file:\n",
    "        return [line.strip() for line in file.readlines()]\n",
    "\n",
    "def getEnergy(out):\n",
    "    \"\"\"Returns total energy from output file.\"\"\"\n",
    "    for line in getLines(out):\n",
    "        if line.startswith('FINAL SINGLE POINT ENERGY'):\n",
    "            return float(line.split()[4])\n",
    "\n",
    "def getNumCores(inp):\n",
    "    \"\"\"Returns number of CPU cores from input file.\"\"\"\n",
    "    for line in getLines(inp):\n",
    "        if line.startswith('%pal'):\n",
    "            return int(line.split()[2])\n",
    "\n",
    "def getNumSCFIterations(out):\n",
    "    \"\"\"Returns number of SCF iterations from output file.\"\"\"\n",
    "    for line in getLines(out):\n",
    "        if 'SCF CONVERGED AFTER' in line:\n",
    "            return int(line.split()[4])\n",
    "\n",
    "def getSCFTiming(out):\n",
    "    \"\"\"Returns timing for SCF module in seconds from output file.\"\"\"\n",
    "    lines = getLines(out)\n",
    "    offset = 5\n",
    "    for i, line in enumerate(lines):\n",
    "        if line.startswith('TIMINGS'):\n",
    "            return float(lines[i+offset].split()[3])\n",
    "\n",
    "def getWalltime(out):\n",
    "    \"\"\"Returns total wall time in seconds from output file.\"\"\"\n",
    "    for line in reversed(getLines(out)):\n",
    "        if line.startswith('TOTAL RUN TIME'):\n",
    "            _, _, _, d, _, h, _, m, _, s, _, ms, _ = line.split()\n",
    "            return float(d)*60*60*24 + float(h)*60*60 + float(m)*60 + float(s) + float(ms)/1000\n",
    "\n",
    "def getMemoryUsage(log):\n",
    "    lines = getLines(log)\n",
    "    for i, line in enumerate(lines):\n",
    "        if line.startswith('Memory usage stats:'):\n",
    "            for j, subline in enumerate(lines[i:]):\n",
    "                if subline.split()[0].endswith('.batch'):\n",
    "                    m = subline.split()[1]\n",
    "                    return int(m[:-1]) // 1000000\n",
    "                \n",
    "def getORCAVersion(out):\n",
    "    for line in getLines(out):\n",
    "        if line.startswith('Program Version'):\n",
    "            return line.split()[2]"
   ]
  },
  {
   "cell_type": "code",
   "execution_count": 3,
   "id": "f4d6a2b5-c2d8-4d89-8b80-46d0d631bb95",
   "metadata": {},
   "outputs": [],
   "source": [
    "root = pathlib.Path('').absolute()\n",
    "inputs = root.joinpath('calcs').glob('*.inp')\n",
    "mol = 'Valinomycine'\n",
    "\n",
    "table = []\n",
    "for inp in inputs:\n",
    "    basis = inp.stem\n",
    "    out = inp.with_suffix('.out')\n",
    "    log = inp.with_suffix('.log')\n",
    "    table.append((\n",
    "        basis,\n",
    "        mol,\n",
    "        getEnergy(out),\n",
    "        getNumCores(inp),\n",
    "        getNumSCFIterations(out),\n",
    "        getSCFTiming(out),\n",
    "        getWalltime(out),\n",
    "        getMemoryUsage(log),\n",
    "        getORCAVersion(out)\n",
    "    ))\n",
    "    \n",
    "columns = ('BasisSet', 'Molecule', 'Energy', 'NumCores', 'NumIter', 'SCFTime', 'WallTime', 'Memory', 'ORCAVersion')\n",
    "df = pd.DataFrame(table, columns=columns).sort_values(by='BasisSet')\n",
    "df.to_csv('data.csv', index=False)"
   ]
  },
  {
   "cell_type": "code",
   "execution_count": null,
   "id": "93745179-19f1-4548-92d4-30ff56dd9319",
   "metadata": {},
   "outputs": [],
   "source": []
  }
 ],
 "metadata": {
  "kernelspec": {
   "display_name": "Python 3",
   "language": "python",
   "name": "python3"
  },
  "language_info": {
   "codemirror_mode": {
    "name": "ipython",
    "version": 3
   },
   "file_extension": ".py",
   "mimetype": "text/x-python",
   "name": "python",
   "nbconvert_exporter": "python",
   "pygments_lexer": "ipython3",
   "version": "3.8.8"
  }
 },
 "nbformat": 4,
 "nbformat_minor": 5
}
